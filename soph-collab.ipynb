{
 "metadata": {
  "celltoolbar": "Raw Cell Format",
  "name": "",
  "signature": "sha256:3f436e7998f2bf53b3030161db6ed695dac33646b490944f5ed60f74958c8b69"
 },
 "nbformat": 3,
 "nbformat_minor": 0,
 "worksheets": [
  {
   "cells": [
    {
     "cell_type": "heading",
     "level": 2,
     "metadata": {},
     "source": [
      "SoPH Faculty Article Counts"
     ]
    },
    {
     "cell_type": "markdown",
     "metadata": {},
     "source": [
      "###Setup:\n",
      "Initialize workspace with some code imports, etc.\n"
     ]
    },
    {
     "cell_type": "code",
     "collapsed": false,
     "input": [
      "# Import dependencies\n",
      "import numpy as np\n",
      "import matplotlib.pyplot as plt\n",
      "import pandas as pd\n",
      "import uuid\n",
      "%matplotlib inline\n",
      "from IPython.html import widgets\n",
      "from IPython.display import display\n",
      "from IPython.display import HTML\n",
      "from IPython.display import Javascript\n",
      "from sophcollab.namesearch import PubmedNameSearch"
     ],
     "language": "python",
     "metadata": {},
     "outputs": [],
     "prompt_number": 1
    },
    {
     "cell_type": "markdown",
     "metadata": {},
     "source": [
      "###Input:\n",
      "Enter a list of faculty member names in the text box below (copy/paste from source, etc). The names may be written as either '<first> <last>' or '<last>, <first>', but should only be one per line. Then click the 'Run' button to start the search for publication information."
     ]
    },
    {
     "cell_type": "code",
     "collapsed": false,
     "input": [
      "data = None\n",
      "# Display form input widgets\n",
      "names_input = widgets.TextareaWidget()\n",
      "names_input.description = \"Enter faculty names (one per line)\"\n",
      "display(names_input)\n",
      "run_btn = widgets.ButtonWidget(description=\"Run Search\")\n",
      "display(run_btn)\n",
      "div_id = str(uuid.uuid4())\n",
      "progress_bar = HTML(\n",
      "\"\"\"\n",
      "<div style=\"width: 500px;\">\n",
      "    <div id=\"%s\" style=\"background-color: blue; width: 0%%; display: block\">&nbsp;</div>\n",
      "</div>\n",
      "\"\"\" % div_id)\n",
      "\n",
      "def update_progress_bar(num_complete, total_num):\n",
      "    display(Javascript(\"$('div#%s').width('%i%%')\" % (div_id, round(float(num_complete)/total_num*100))))\n",
      "            \n",
      "def on_run_button_clicked(btn):\n",
      "    global data\n",
      "    display(progress_bar)\n",
      "    # Run the article count search for the list of names\n",
      "    article_counts = PubmedNameSearch(names_input.value.splitlines()).article_counts_by_name(update_progress_bar)\n",
      "    if len(article_counts) > 0:\n",
      "        data = pd.DataFrame.from_dict(article_counts, 'index')\n",
      "        data.columns=[\"articles\"]\n",
      "    display(Javascript(\"$('div#%s').hide()\" % (div_id)))\n",
      "\n",
      "run_btn.on_click(on_run_button_clicked)"
     ],
     "language": "python",
     "metadata": {},
     "outputs": [],
     "prompt_number": 13
    },
    {
     "cell_type": "markdown",
     "metadata": {},
     "source": [
      "###Output\n",
      "Display the results of the search for article information for the faculty members."
     ]
    },
    {
     "cell_type": "markdown",
     "metadata": {},
     "source": [
      "##### Summary Statistics\n",
      "Some simple summary statistics are shown below."
     ]
    },
    {
     "cell_type": "code",
     "collapsed": true,
     "input": [
      "if data is not None:\n",
      "    display(data.describe())"
     ],
     "language": "python",
     "metadata": {},
     "outputs": [],
     "prompt_number": 3
    },
    {
     "cell_type": "markdown",
     "metadata": {},
     "source": [
      "#####Histogram\n",
      "A display of the occurances of faculty member article counts."
     ]
    },
    {
     "cell_type": "code",
     "collapsed": true,
     "input": [
      "if data is not None:\n",
      "    data.hist()\n",
      "    plt.title(\"Faculty Article Counts\")\n",
      "    plt.xlabel(\"Number of Articles\")\n",
      "    plt.ylabel(\"Occurences\")"
     ],
     "language": "python",
     "metadata": {},
     "outputs": [],
     "prompt_number": 4
    },
    {
     "cell_type": "markdown",
     "metadata": {},
     "source": [
      "#####Faculty Listing\n",
      "Full listing of article counts for the given list of faculty"
     ]
    },
    {
     "cell_type": "code",
     "collapsed": false,
     "input": [
      "display(data)"
     ],
     "language": "python",
     "metadata": {},
     "outputs": [
      {
       "metadata": {},
       "output_type": "display_data",
       "text": [
        "None"
       ]
      }
     ],
     "prompt_number": 5
    }
   ],
   "metadata": {}
  }
 ]
}