{
 "metadata": {
  "celltoolbar": "Raw Cell Format",
  "name": "",
  "signature": "sha256:2acd264c19c39793831d875d94dd9fb589639c875b0fc5b82fadc9b69100f967"
 },
 "nbformat": 3,
 "nbformat_minor": 0,
 "worksheets": [
  {
   "cells": [
    {
     "cell_type": "heading",
     "level": 2,
     "metadata": {},
     "source": [
      "SoPH Faculty Article Counts"
     ]
    },
    {
     "cell_type": "markdown",
     "metadata": {},
     "source": [
      "###Setup:\n",
      "Initialize workspace with some code imports, etc.\n"
     ]
    },
    {
     "cell_type": "code",
     "collapsed": false,
     "input": [
      "import numpy as np\n",
      "import matplotlib.pyplot as plt\n",
      "import pandas as pd\n",
      "%matplotlib inline\n",
      "from IPython.html import widgets\n",
      "from IPython.display import display\n",
      "from sophcollab.namesearch import PubmedNameSearch"
     ],
     "language": "python",
     "metadata": {},
     "outputs": [],
     "prompt_number": 1
    },
    {
     "cell_type": "markdown",
     "metadata": {},
     "source": [
      "###Input:\n",
      "Enter a list of faculty member names in the text box below (copy/paste from source, etc). The names may be written as either '<first> <last>' or '<last>, <first>', but should only be one per line. Then click the 'Run' button to start the search for publication information."
     ]
    },
    {
     "cell_type": "code",
     "collapsed": false,
     "input": [
      "names_input = widgets.TextareaWidget()\n",
      "names_input.description = \"Enter faculty names (one per line)\"\n",
      "display(names_input)\n",
      "run_btn = widgets.ButtonWidget(description=\"Run Search\")\n",
      "display(run_btn)\n",
      "def on_run_button_clicked(btn):\n",
      "    print(\"Button clicked.\")\n",
      "    \n",
      "run_btn.on_click(on_run_button_clicked)"
     ],
     "language": "python",
     "metadata": {},
     "outputs": [
      {
       "output_type": "stream",
       "stream": "stdout",
       "text": [
        "Button clicked.\n"
       ]
      }
     ],
     "prompt_number": 20
    },
    {
     "cell_type": "markdown",
     "metadata": {},
     "source": [
      "###Search\n",
      "Run the article count search for the given list of faculty names."
     ]
    },
    {
     "cell_type": "code",
     "collapsed": true,
     "input": [
      "article_counts = PubmedNameSearch(names_input.value.splitlines()).article_counts_by_name()\n",
      "df = None\n",
      "if len(article_counts) > 0:\n",
      "    df = pd.DataFrame.from_dict(article_counts, 'index')\n",
      "    df.columns=[\"articles\"]\n",
      "df"
     ],
     "language": "python",
     "metadata": {},
     "outputs": [],
     "prompt_number": 21
    },
    {
     "cell_type": "markdown",
     "metadata": {},
     "source": [
      "###Output\n",
      "Display the results of the search for article information for the faculty members."
     ]
    },
    {
     "cell_type": "markdown",
     "metadata": {},
     "source": [
      "##### Summary Statistics\n",
      "Some simple summary statistics are shown below."
     ]
    },
    {
     "cell_type": "code",
     "collapsed": true,
     "input": [
      "if df is not None:\n",
      "    display(df.describe())"
     ],
     "language": "python",
     "metadata": {},
     "outputs": [],
     "prompt_number": 22
    },
    {
     "cell_type": "markdown",
     "metadata": {},
     "source": [
      "#####Histogram\n",
      "A display of the occurances of faculty member article counts."
     ]
    },
    {
     "cell_type": "code",
     "collapsed": true,
     "input": [
      "if df is not None:\n",
      "    df.hist()\n",
      "    plt.title(\"Faculty Article Counts\")\n",
      "    plt.xlabel(\"Number of Articles\")\n",
      "    plt.ylabel(\"Occurences\")"
     ],
     "language": "python",
     "metadata": {},
     "outputs": [],
     "prompt_number": 23
    },
    {
     "cell_type": "code",
     "collapsed": false,
     "input": [
      "from IPython.html.widgets import interact\n",
      "interact?"
     ],
     "language": "python",
     "metadata": {},
     "outputs": [],
     "prompt_number": 11
    },
    {
     "cell_type": "code",
     "collapsed": false,
     "input": [],
     "language": "python",
     "metadata": {},
     "outputs": [],
     "prompt_number": 18
    },
    {
     "cell_type": "code",
     "collapsed": false,
     "input": [],
     "language": "python",
     "metadata": {},
     "outputs": []
    }
   ],
   "metadata": {}
  }
 ]
}