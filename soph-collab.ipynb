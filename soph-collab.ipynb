{
 "metadata": {
  "celltoolbar": "Raw Cell Format",
  "name": "",
  "signature": "sha256:9a641e934107930d249de79ad35706d16460f98f7040b7b8ff23f3857a023aed"
 },
 "nbformat": 3,
 "nbformat_minor": 0,
 "worksheets": [
  {
   "cells": [
    {
     "cell_type": "heading",
     "level": 2,
     "metadata": {},
     "source": [
      "SoPH Faculty Article Counts"
     ]
    },
    {
     "cell_type": "markdown",
     "metadata": {},
     "source": [
      "###Setup:\n",
      "Initialize workspace with some code imports, etc.\n"
     ]
    },
    {
     "cell_type": "code",
     "collapsed": false,
     "input": [
      "import numpy as np\n",
      "import matplotlib.pyplot as plt\n",
      "import pandas as pd\n",
      "%matplotlib inline\n",
      "from IPython.html import widgets\n",
      "from IPython.display import display\n",
      "from sophcollab.namesearch import PubmedNameSearch"
     ],
     "language": "python",
     "metadata": {},
     "outputs": [
      {
       "output_type": "stream",
       "stream": "stdout",
       "text": [
        "Using matplotlib backend: MacOSX\n",
        "Populating the interactive namespace from numpy and matplotlib\n"
       ]
      }
     ],
     "prompt_number": 10
    },
    {
     "cell_type": "markdown",
     "metadata": {},
     "source": [
      "###Input:\n",
      "Enter a list of faculty member names in the text box below (copy/paste from source, etc). The names may be written as either '<first> <last>' or '<last>, <first>', but should only be one per line. Then click the 'Run' button to start the search for publication information."
     ]
    },
    {
     "cell_type": "code",
     "collapsed": false,
     "input": [
      "names_input=widgets.TextareaWidget()\n",
      "names_input.description = \"Enter faculty names (one per line)\"\n",
      "display(names_input)"
     ],
     "language": "python",
     "metadata": {},
     "outputs": [
      {
       "output_type": "stream",
       "stream": "stdout",
       "text": [
        "Using matplotlib backend: MacOSX\n",
        "Populating the interactive namespace from numpy and matplotlib\n"
       ]
      }
     ],
     "prompt_number": 8
    },
    {
     "cell_type": "markdown",
     "metadata": {},
     "source": [
      "###Search\n",
      "Run the article count search for the given list of faculty names."
     ]
    },
    {
     "cell_type": "code",
     "collapsed": true,
     "input": [
      "article_counts = PubmedNameSearch(names_input.value.splitlines()).article_counts_by_name()\n",
      "df = None\n",
      "if len(result) > 0:\n",
      "    df = pd.DataFrame.from_dict(article_counts, 'index')\n",
      "    df.columns=[\"articles\"]\n",
      "    df"
     ],
     "language": "python",
     "metadata": {},
     "outputs": [],
     "prompt_number": 7
    },
    {
     "cell_type": "markdown",
     "metadata": {},
     "source": [
      "###Output\n",
      "Display the results of the search for article information for the faculty members."
     ]
    },
    {
     "cell_type": "markdown",
     "metadata": {},
     "source": [
      "##### Summary Statistics\n",
      "Some simple summary statistics are shown below."
     ]
    },
    {
     "cell_type": "code",
     "collapsed": true,
     "input": [
      "if df:\n",
      "    df.describe()"
     ],
     "language": "python",
     "metadata": {},
     "outputs": [],
     "prompt_number": 5
    },
    {
     "cell_type": "markdown",
     "metadata": {},
     "source": [
      "#####Histogram\n",
      "A display of the occurances of faculty member article counts."
     ]
    },
    {
     "cell_type": "code",
     "collapsed": true,
     "input": [
      "if df:\n",
      "    df.hist()\n",
      "    plt.title(\"Faculty Article Counts\")\n",
      "    plt.xlabel(\"Number of Articles\")\n",
      "    plt.ylabel(\"Occurences\")"
     ],
     "language": "python",
     "metadata": {},
     "outputs": [],
     "prompt_number": 6
    },
    {
     "cell_type": "code",
     "collapsed": true,
     "input": [],
     "language": "python",
     "metadata": {},
     "outputs": []
    }
   ],
   "metadata": {}
  }
 ]
}